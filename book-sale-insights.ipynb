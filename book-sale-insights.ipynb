{
 "cells": [
  {
   "cell_type": "code",
   "execution_count": 1,
   "id": "abd27e1e",
   "metadata": {
    "_cell_guid": "b1076dfc-b9ad-4769-8c92-a6c4dae69d19",
    "_uuid": "8f2839f25d086af736a60e9eeb907d3b93b6e0e5",
    "execution": {
     "iopub.execute_input": "2024-11-19T19:59:03.205550Z",
     "iopub.status.busy": "2024-11-19T19:59:03.205031Z",
     "iopub.status.idle": "2024-11-19T19:59:03.217632Z",
     "shell.execute_reply": "2024-11-19T19:59:03.216544Z"
    },
    "papermill": {
     "duration": 0.021591,
     "end_time": "2024-11-19T19:59:03.220417",
     "exception": false,
     "start_time": "2024-11-19T19:59:03.198826",
     "status": "completed"
    },
    "tags": []
   },
   "outputs": [],
   "source": [
    "# This Python 3 environment comes with many helpful analytics libraries installed\n",
    "# It is defined by the kaggle/python Docker image: https://github.com/kaggle/docker-python\n",
    "# For example, here's several helpful packages to load\n",
    "\n",
    "# Input data files are available in the read-only \"../input/\" directory\n",
    "# For example, running this (by clicking run or pressing Shift+Enter) will list all files under the input directory\n",
    "\n",
    "import os\n",
    "for dirname, _, filenames in os.walk('/kaggle/input/books-sales-and-ratings/Books_Data_Clean.csv'):\n",
    "    for filename in filenames:\n",
    "        print(os.path.join(dirname, filename))\n",
    "\n",
    "# You can write up to 20GB to the current directory (/kaggle/working/) that gets preserved as output when you create a version using \"Save & Run All\" \n",
    "# You can also write temporary files to /kaggle/temp/, but they won't be saved outside of the current session"
   ]
  },
  {
   "cell_type": "markdown",
   "id": "cac6c21e",
   "metadata": {
    "papermill": {
     "duration": 0.003652,
     "end_time": "2024-11-19T19:59:03.228264",
     "exception": false,
     "start_time": "2024-11-19T19:59:03.224612",
     "status": "completed"
    },
    "tags": []
   },
   "source": [
    "This is using the book sales and ratings dataset from Kaggle. Let us get some insights from this dataset. This dataset is already clean so we do not need to do any data cleaning."
   ]
  },
  {
   "cell_type": "code",
   "execution_count": 2,
   "id": "f0c80948",
   "metadata": {
    "execution": {
     "iopub.execute_input": "2024-11-19T19:59:03.237404Z",
     "iopub.status.busy": "2024-11-19T19:59:03.236888Z",
     "iopub.status.idle": "2024-11-19T19:59:05.855678Z",
     "shell.execute_reply": "2024-11-19T19:59:05.854558Z"
    },
    "papermill": {
     "duration": 2.626276,
     "end_time": "2024-11-19T19:59:05.858374",
     "exception": false,
     "start_time": "2024-11-19T19:59:03.232098",
     "status": "completed"
    },
    "tags": []
   },
   "outputs": [],
   "source": [
    "import pandas as pd\n",
    "import numpy as np\n",
    "import matplotlib.pyplot as plt\n",
    "import seaborn as sns\n",
    "from scipy.stats import f_oneway\n",
    "from scipy.stats import chi2_contingency"
   ]
  },
  {
   "cell_type": "code",
   "execution_count": 3,
   "id": "8c932909",
   "metadata": {
    "execution": {
     "iopub.execute_input": "2024-11-19T19:59:05.867638Z",
     "iopub.status.busy": "2024-11-19T19:59:05.867087Z",
     "iopub.status.idle": "2024-11-19T19:59:05.893780Z",
     "shell.execute_reply": "2024-11-19T19:59:05.892732Z"
    },
    "papermill": {
     "duration": 0.033843,
     "end_time": "2024-11-19T19:59:05.896014",
     "exception": false,
     "start_time": "2024-11-19T19:59:05.862171",
     "status": "completed"
    },
    "tags": []
   },
   "outputs": [
    {
     "name": "stdout",
     "output_type": "stream",
     "text": [
      "['index', 'Publishing Year', 'Book Name', 'Author', 'language_code', 'Author_Rating', 'Book_average_rating', 'Book_ratings_count', 'genre', 'gross sales', 'publisher revenue', 'sale price', 'sales rank', 'Publisher ', 'units sold']\n"
     ]
    }
   ],
   "source": [
    "books = pd.read_csv(\"/kaggle/input/books-sales-and-ratings/Books_Data_Clean.csv\")\n",
    "column_names = list(books.columns)\n",
    "print(column_names)"
   ]
  },
  {
   "cell_type": "markdown",
   "id": "e1f9d250",
   "metadata": {
    "papermill": {
     "duration": 0.003443,
     "end_time": "2024-11-19T19:59:05.903443",
     "exception": false,
     "start_time": "2024-11-19T19:59:05.900000",
     "status": "completed"
    },
    "tags": []
   },
   "source": [
    "Let us first see if this dataset needs any cleaning. Let's check for missing values or NaNs."
   ]
  },
  {
   "cell_type": "code",
   "execution_count": 4,
   "id": "778e05c0",
   "metadata": {
    "execution": {
     "iopub.execute_input": "2024-11-19T19:59:05.912709Z",
     "iopub.status.busy": "2024-11-19T19:59:05.911811Z",
     "iopub.status.idle": "2024-11-19T19:59:05.928732Z",
     "shell.execute_reply": "2024-11-19T19:59:05.927661Z"
    },
    "papermill": {
     "duration": 0.023895,
     "end_time": "2024-11-19T19:59:05.930928",
     "exception": false,
     "start_time": "2024-11-19T19:59:05.907033",
     "status": "completed"
    },
    "tags": []
   },
   "outputs": [
    {
     "data": {
      "text/plain": [
       "index                   0\n",
       "Publishing Year         1\n",
       "Book Name              23\n",
       "Author                  0\n",
       "language_code          53\n",
       "Author_Rating           0\n",
       "Book_average_rating     0\n",
       "Book_ratings_count      0\n",
       "genre                   0\n",
       "gross sales             0\n",
       "publisher revenue       0\n",
       "sale price              0\n",
       "sales rank              0\n",
       "Publisher               0\n",
       "units sold              0\n",
       "dtype: int64"
      ]
     },
     "execution_count": 4,
     "metadata": {},
     "output_type": "execute_result"
    }
   ],
   "source": [
    "books.isna().sum()"
   ]
  },
  {
   "cell_type": "markdown",
   "id": "310f54ca",
   "metadata": {
    "papermill": {
     "duration": 0.003502,
     "end_time": "2024-11-19T19:59:05.938375",
     "exception": false,
     "start_time": "2024-11-19T19:59:05.934873",
     "status": "completed"
    },
    "tags": []
   },
   "source": [
    "We have missing values or NaNs in this dataset, which means it needs some cleaning."
   ]
  },
  {
   "cell_type": "code",
   "execution_count": 5,
   "id": "af5dad32",
   "metadata": {
    "execution": {
     "iopub.execute_input": "2024-11-19T19:59:05.947613Z",
     "iopub.status.busy": "2024-11-19T19:59:05.947244Z",
     "iopub.status.idle": "2024-11-19T19:59:05.963063Z",
     "shell.execute_reply": "2024-11-19T19:59:05.961841Z"
    },
    "papermill": {
     "duration": 0.023398,
     "end_time": "2024-11-19T19:59:05.965574",
     "exception": false,
     "start_time": "2024-11-19T19:59:05.942176",
     "status": "completed"
    },
    "tags": []
   },
   "outputs": [
    {
     "name": "stderr",
     "output_type": "stream",
     "text": [
      "/tmp/ipykernel_17/2113103579.py:3: FutureWarning: A value is trying to be set on a copy of a DataFrame or Series through chained assignment using an inplace method.\n",
      "The behavior will change in pandas 3.0. This inplace method will never work because the intermediate object on which we are setting values always behaves as a copy.\n",
      "\n",
      "For example, when doing 'df[col].method(value, inplace=True)', try using 'df.method({col: value}, inplace=True)' or df[col] = df[col].method(value) instead, to perform the operation inplace on the original object.\n",
      "\n",
      "\n",
      "  books['Book Name'].fillna(\"Unknown Title\", inplace=True)\n"
     ]
    }
   ],
   "source": [
    "books = books.dropna(subset =['Publishing Year'] )\n",
    "\n",
    "books['Book Name'].fillna(\"Unknown Title\", inplace=True)"
   ]
  },
  {
   "cell_type": "markdown",
   "id": "15a55cc5",
   "metadata": {
    "papermill": {
     "duration": 0.003572,
     "end_time": "2024-11-19T19:59:05.974163",
     "exception": false,
     "start_time": "2024-11-19T19:59:05.970591",
     "status": "completed"
    },
    "tags": []
   },
   "source": [
    "I want to pose the question if Genre has an effect on Gross Sales or Units Sold. Let's see if our data is normally distributed."
   ]
  },
  {
   "cell_type": "code",
   "execution_count": 6,
   "id": "cf1992f0",
   "metadata": {
    "execution": {
     "iopub.execute_input": "2024-11-19T19:59:05.983272Z",
     "iopub.status.busy": "2024-11-19T19:59:05.982886Z",
     "iopub.status.idle": "2024-11-19T19:59:06.215827Z",
     "shell.execute_reply": "2024-11-19T19:59:06.214580Z"
    },
    "papermill": {
     "duration": 0.240212,
     "end_time": "2024-11-19T19:59:06.218021",
     "exception": false,
     "start_time": "2024-11-19T19:59:05.977809",
     "status": "completed"
    },
    "tags": []
   },
   "outputs": [
    {
     "data": {
      "image/png": "[encoded data removed]",
      "text/plain": [
       "<Figure size 640x480 with 1 Axes>"
      ]
     },
     "metadata": {},
     "output_type": "display_data"
    }
   ],
   "source": [
    "plt.title('Distribution of gross sales')\n",
    "plt.xlabel('Gross Sale')\n",
    "plt.ylabel('Frequency of Books')\n",
    "plt.hist(books['gross sales'])\n",
    "plt.show() "
   ]
  },
  {
   "cell_type": "code",
   "execution_count": 7,
   "id": "723bcf66",
   "metadata": {
    "execution": {
     "iopub.execute_input": "2024-11-19T19:59:06.228254Z",
     "iopub.status.busy": "2024-11-19T19:59:06.227886Z",
     "iopub.status.idle": "2024-11-19T19:59:06.458503Z",
     "shell.execute_reply": "2024-11-19T19:59:06.457363Z"
    },
    "papermill": {
     "duration": 0.238779,
     "end_time": "2024-11-19T19:59:06.461229",
     "exception": false,
     "start_time": "2024-11-19T19:59:06.222450",
     "status": "completed"
    },
    "tags": []
   },
   "outputs": [
    {
     "data": {
      "image/png": "[encoded data removed]",
      "text/plain": [
       "<Figure size 640x480 with 1 Axes>"
      ]
     },
     "metadata": {},
     "output_type": "display_data"
    }
   ],
   "source": [
    "plt.title('Distribution of Units Sold')\n",
    "plt.xlabel('Units Sold')\n",
    "plt.ylabel('Frequency of Books')\n",
    "plt.hist(books['units sold'])\n",
    "plt.show() "
   ]
  },
  {
   "cell_type": "code",
   "execution_count": null,
   "id": "a330611b",
   "metadata": {
    "papermill": {
     "duration": 0.004361,
     "end_time": "2024-11-19T19:59:06.470507",
     "exception": false,
     "start_time": "2024-11-19T19:59:06.466146",
     "status": "completed"
    },
    "tags": []
   },
   "outputs": [],
   "source": []
  },
  {
   "cell_type": "markdown",
   "id": "76434a55",
   "metadata": {
    "papermill": {
     "duration": 0.004245,
     "end_time": "2024-11-19T19:59:06.479392",
     "exception": false,
     "start_time": "2024-11-19T19:59:06.475147",
     "status": "completed"
    },
    "tags": []
   },
   "source": [
    "First insight I want to test is if genre effects the amount of gross sales. Our hypothesis is that genre does affect the amount of gross sales. Or genre does affect teh amount of units sold."
   ]
  },
  {
   "cell_type": "code",
   "execution_count": 8,
   "id": "702e2f4b",
   "metadata": {
    "execution": {
     "iopub.execute_input": "2024-11-19T19:59:06.490205Z",
     "iopub.status.busy": "2024-11-19T19:59:06.489818Z",
     "iopub.status.idle": "2024-11-19T19:59:06.508472Z",
     "shell.execute_reply": "2024-11-19T19:59:06.507347Z"
    },
    "papermill": {
     "duration": 0.02684,
     "end_time": "2024-11-19T19:59:06.510775",
     "exception": false,
     "start_time": "2024-11-19T19:59:06.483935",
     "status": "completed"
    },
    "tags": []
   },
   "outputs": [
    {
     "name": "stdout",
     "output_type": "stream",
     "text": [
      "f-statistic:  2.286742865899192\n",
      "P-Value:  0.07712722077399581\n"
     ]
    }
   ],
   "source": [
    "groups = books.groupby('genre')['units sold'].apply(list)\n",
    "f_statistic, p_value = f_oneway(*groups)\n",
    "print(\"f-statistic: \", f_statistic)\n",
    "print(\"P-Value: \", p_value)"
   ]
  },
  {
   "cell_type": "markdown",
   "id": "816f241e",
   "metadata": {
    "papermill": {
     "duration": 0.0045,
     "end_time": "2024-11-19T19:59:06.519987",
     "exception": false,
     "start_time": "2024-11-19T19:59:06.515487",
     "status": "completed"
    },
    "tags": []
   },
   "source": [
    "Since the p value is above 0.05, there isn't enough significant evidence to say that the genre affects gross sales."
   ]
  },
  {
   "cell_type": "code",
   "execution_count": 9,
   "id": "f06737d0",
   "metadata": {
    "execution": {
     "iopub.execute_input": "2024-11-19T19:59:06.530629Z",
     "iopub.status.busy": "2024-11-19T19:59:06.530263Z",
     "iopub.status.idle": "2024-11-19T19:59:06.540362Z",
     "shell.execute_reply": "2024-11-19T19:59:06.539393Z"
    },
    "papermill": {
     "duration": 0.017995,
     "end_time": "2024-11-19T19:59:06.542551",
     "exception": false,
     "start_time": "2024-11-19T19:59:06.524556",
     "status": "completed"
    },
    "tags": []
   },
   "outputs": [
    {
     "name": "stdout",
     "output_type": "stream",
     "text": [
      "F-statistic:  1.5190291183773832\n",
      "p value:  0.20791739129177883\n"
     ]
    }
   ],
   "source": [
    "group_sales = books.groupby('genre')['gross sales'].apply(list)\n",
    "f_statistic2, p_value2 = f_oneway(*group_sales)\n",
    "print(\"F-statistic: \", f_statistic2)\n",
    "print(\"p value: \", p_value2)"
   ]
  },
  {
   "cell_type": "markdown",
   "id": "d2eaeff7",
   "metadata": {
    "papermill": {
     "duration": 0.004433,
     "end_time": "2024-11-19T19:59:06.551733",
     "exception": false,
     "start_time": "2024-11-19T19:59:06.547300",
     "status": "completed"
    },
    "tags": []
   },
   "source": [
    "We can see that the p value is also more than 0.05 here, meaning there isn't enough significant evidence to say that the genre affects units sold."
   ]
  },
  {
   "cell_type": "code",
   "execution_count": null,
   "id": "e175f447",
   "metadata": {
    "papermill": {
     "duration": 0.00515,
     "end_time": "2024-11-19T19:59:06.561478",
     "exception": false,
     "start_time": "2024-11-19T19:59:06.556328",
     "status": "completed"
    },
    "tags": []
   },
   "outputs": [],
   "source": []
  }
 ],
 "metadata": {
  "kaggle": {
   "accelerator": "none",
   "dataSources": [
    {
     "datasetId": 4116904,
     "sourceId": 7134968,
     "sourceType": "datasetVersion"
    }
   ],
   "dockerImageVersionId": 30786,
   "isGpuEnabled": false,
   "isInternetEnabled": false,
   "language": "python",
   "sourceType": "notebook"
  },
  "kernelspec": {
   "display_name": "Python 3",
   "language": "python",
   "name": "python3"
  },
  "language_info": {
   "codemirror_mode": {
    "name": "ipython",
    "version": 3
   },
   "file_extension": ".py",
   "mimetype": "text/x-python",
   "name": "python",
   "nbconvert_exporter": "python",
   "pygments_lexer": "ipython3",
   "version": "3.10.14"
  },
  "papermill": {
   "default_parameters": {},
   "duration": 6.711929,
   "end_time": "2024-11-19T19:59:07.186689",
   "environment_variables": {},
   "exception": null,
   "input_path": "__notebook__.ipynb",
   "output_path": "__notebook__.ipynb",
   "parameters": {},
   "start_time": "2024-11-19T19:59:00.474760",
   "version": "2.6.0"
  }
 },
 "nbformat": 4,
 "nbformat_minor": 5
}
