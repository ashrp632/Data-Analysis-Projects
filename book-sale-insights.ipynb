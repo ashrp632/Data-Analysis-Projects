{
 "cells": [
  {
   "cell_type": "code",
   "execution_count": 1,
   "id": "2e1d9773",
   "metadata": {
    "_cell_guid": "b1076dfc-b9ad-4769-8c92-a6c4dae69d19",
    "_uuid": "8f2839f25d086af736a60e9eeb907d3b93b6e0e5",
    "execution": {
     "iopub.execute_input": "2024-11-19T15:47:31.841869Z",
     "iopub.status.busy": "2024-11-19T15:47:31.841343Z",
     "iopub.status.idle": "2024-11-19T15:47:31.854729Z",
     "shell.execute_reply": "2024-11-19T15:47:31.853695Z"
    },
    "papermill": {
     "duration": 0.020141,
     "end_time": "2024-11-19T15:47:31.857114",
     "exception": false,
     "start_time": "2024-11-19T15:47:31.836973",
     "status": "completed"
    },
    "tags": []
   },
   "outputs": [],
   "source": [
    "# This Python 3 environment comes with many helpful analytics libraries installed\n",
    "# It is defined by the kaggle/python Docker image: https://github.com/kaggle/docker-python\n",
    "# For example, here's several helpful packages to load\n",
    "\n",
    "# Input data files are available in the read-only \"../input/\" directory\n",
    "# For example, running this (by clicking run or pressing Shift+Enter) will list all files under the input directory\n",
    "\n",
    "import os\n",
    "for dirname, _, filenames in os.walk('/kaggle/input/books-sales-and-ratings/Books_Data_Clean.csv'):\n",
    "    for filename in filenames:\n",
    "        print(os.path.join(dirname, filename))\n",
    "\n",
    "# You can write up to 20GB to the current directory (/kaggle/working/) that gets preserved as output when you create a version using \"Save & Run All\" \n",
    "# You can also write temporary files to /kaggle/temp/, but they won't be saved outside of the current session"
   ]
  },
  {
   "cell_type": "code",
   "execution_count": 2,
   "id": "2ed1fba6",
   "metadata": {
    "execution": {
     "iopub.execute_input": "2024-11-19T15:47:31.862363Z",
     "iopub.status.busy": "2024-11-19T15:47:31.862027Z",
     "iopub.status.idle": "2024-11-19T15:47:32.852852Z",
     "shell.execute_reply": "2024-11-19T15:47:32.851718Z"
    },
    "papermill": {
     "duration": 0.996144,
     "end_time": "2024-11-19T15:47:32.855345",
     "exception": false,
     "start_time": "2024-11-19T15:47:31.859201",
     "status": "completed"
    },
    "tags": []
   },
   "outputs": [],
   "source": [
    "import pandas as pd\n",
    "import numpy as np\n",
    "import matplotlib as plt"
   ]
  },
  {
   "cell_type": "code",
   "execution_count": 3,
   "id": "208a3cf3",
   "metadata": {
    "execution": {
     "iopub.execute_input": "2024-11-19T15:47:32.860981Z",
     "iopub.status.busy": "2024-11-19T15:47:32.860118Z",
     "iopub.status.idle": "2024-11-19T15:47:32.912294Z",
     "shell.execute_reply": "2024-11-19T15:47:32.910932Z"
    },
    "papermill": {
     "duration": 0.057708,
     "end_time": "2024-11-19T15:47:32.914984",
     "exception": false,
     "start_time": "2024-11-19T15:47:32.857276",
     "status": "completed"
    },
    "tags": []
   },
   "outputs": [
    {
     "name": "stdout",
     "output_type": "stream",
     "text": [
      "      index  Publishing Year                        Book Name  \\\n",
      "0         0           1975.0                          Beowulf   \n",
      "1         1           1987.0                 Batman: Year One   \n",
      "2         2           2015.0                Go Set a Watchman   \n",
      "3         3           2008.0  When You Are Engulfed in Flames   \n",
      "4         4           2011.0         Daughter of Smoke & Bone   \n",
      "...     ...              ...                              ...   \n",
      "1065   1065           2014.0                    Gray Mountain   \n",
      "1066   1066           1989.0                 The Power of One   \n",
      "1067   1067           1930.0               The Maltese Falcon   \n",
      "1068   1068           2011.0                       Night Road   \n",
      "1069   1069           1999.0                         Tripwire   \n",
      "\n",
      "                                                 Author language_code  \\\n",
      "0                                Unknown, Seamus Heaney         en-US   \n",
      "1     Frank Miller, David Mazzucchelli, Richmond Lew...           eng   \n",
      "2                                            Harper Lee           eng   \n",
      "3                                         David Sedaris         en-US   \n",
      "4                                          Laini Taylor           eng   \n",
      "...                                                 ...           ...   \n",
      "1065                                       John Grisham           eng   \n",
      "1066                                    Bryce Courtenay           eng   \n",
      "1067                                   Dashiell Hammett           eng   \n",
      "1068                                     Kristin Hannah         en-US   \n",
      "1069                                          Lee Child           eng   \n",
      "\n",
      "     Author_Rating  Book_average_rating  Book_ratings_count          genre  \\\n",
      "0           Novice                 3.42              155903  genre fiction   \n",
      "1     Intermediate                 4.23              145267  genre fiction   \n",
      "2           Novice                 3.31              138669  genre fiction   \n",
      "3     Intermediate                 4.04              150898        fiction   \n",
      "4     Intermediate                 4.04              198283  genre fiction   \n",
      "...            ...                  ...                 ...            ...   \n",
      "1065  Intermediate                 3.52               37379     nonfiction   \n",
      "1066     Excellent                 4.34               57312  genre fiction   \n",
      "1067  Intermediate                 3.92               58742  genre fiction   \n",
      "1068     Excellent                 4.17               58028  genre fiction   \n",
      "1069     Excellent                 4.07               55251  genre fiction   \n",
      "\n",
      "      gross sales  publisher revenue  sale price  sales rank  \\\n",
      "0        34160.00          20496.000        4.88           1   \n",
      "1        12437.50           7462.500        1.99           2   \n",
      "2        47795.00          28677.000        8.69           3   \n",
      "3        41250.00          24750.000        7.50           3   \n",
      "4        37952.50          22771.500        7.99           4   \n",
      "...           ...                ...         ...         ...   \n",
      "1065       104.94             62.964        0.99        1268   \n",
      "1066       846.94            508.164        7.99        1270   \n",
      "1067       846.94            508.164        7.99        1271   \n",
      "1068       104.94             62.964        0.99        1272   \n",
      "1069       316.94              0.000        2.99        1273   \n",
      "\n",
      "                          Publisher   units sold  \n",
      "0           HarperCollins Publishers        7000  \n",
      "1           HarperCollins Publishers        6250  \n",
      "2     Amazon Digital Services,  Inc.        5500  \n",
      "3                Hachette Book Group        5500  \n",
      "4            Penguin Group (USA) LLC        4750  \n",
      "...                              ...         ...  \n",
      "1065  Amazon Digital Services,  Inc.         106  \n",
      "1066                Random House LLC         106  \n",
      "1067             Hachette Book Group         106  \n",
      "1068  Amazon Digital Services,  Inc.         106  \n",
      "1069  Amazon Digital Services,  Inc.         106  \n",
      "\n",
      "[1070 rows x 15 columns]\n"
     ]
    }
   ],
   "source": [
    "books = pd.read_csv(\"/kaggle/input/books-sales-and-ratings/Books_Data_Clean.csv\")\n",
    "print(books)"
   ]
  },
  {
   "cell_type": "code",
   "execution_count": null,
   "id": "4117e5a3",
   "metadata": {
    "papermill": {
     "duration": 0.001793,
     "end_time": "2024-11-19T15:47:32.918965",
     "exception": false,
     "start_time": "2024-11-19T15:47:32.917172",
     "status": "completed"
    },
    "tags": []
   },
   "outputs": [],
   "source": []
  }
 ],
 "metadata": {
  "kaggle": {
   "accelerator": "none",
   "dataSources": [
    {
     "datasetId": 4116904,
     "sourceId": 7134968,
     "sourceType": "datasetVersion"
    }
   ],
   "dockerImageVersionId": 30786,
   "isGpuEnabled": false,
   "isInternetEnabled": false,
   "language": "python",
   "sourceType": "notebook"
  },
  "kernelspec": {
   "display_name": "Python 3",
   "language": "python",
   "name": "python3"
  },
  "language_info": {
   "codemirror_mode": {
    "name": "ipython",
    "version": 3
   },
   "file_extension": ".py",
   "mimetype": "text/x-python",
   "name": "python",
   "nbconvert_exporter": "python",
   "pygments_lexer": "ipython3",
   "version": "3.10.14"
  },
  "papermill": {
   "default_parameters": {},
   "duration": 4.442956,
   "end_time": "2024-11-19T15:47:33.441548",
   "environment_variables": {},
   "exception": null,
   "input_path": "__notebook__.ipynb",
   "output_path": "__notebook__.ipynb",
   "parameters": {},
   "start_time": "2024-11-19T15:47:28.998592",
   "version": "2.6.0"
  }
 },
 "nbformat": 4,
 "nbformat_minor": 5
}
