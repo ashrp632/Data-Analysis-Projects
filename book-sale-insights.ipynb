{
 "cells": [
  {
   "cell_type": "code",
   "execution_count": 1,
   "id": "8ca5c883",
   "metadata": {
    "_cell_guid": "b1076dfc-b9ad-4769-8c92-a6c4dae69d19",
    "_uuid": "8f2839f25d086af736a60e9eeb907d3b93b6e0e5",
    "execution": {
     "iopub.execute_input": "2024-11-19T16:22:30.381841Z",
     "iopub.status.busy": "2024-11-19T16:22:30.381460Z",
     "iopub.status.idle": "2024-11-19T16:22:30.394344Z",
     "shell.execute_reply": "2024-11-19T16:22:30.393312Z"
    },
    "papermill": {
     "duration": 0.019485,
     "end_time": "2024-11-19T16:22:30.396485",
     "exception": false,
     "start_time": "2024-11-19T16:22:30.377000",
     "status": "completed"
    },
    "tags": []
   },
   "outputs": [],
   "source": [
    "# This Python 3 environment comes with many helpful analytics libraries installed\n",
    "# It is defined by the kaggle/python Docker image: https://github.com/kaggle/docker-python\n",
    "# For example, here's several helpful packages to load\n",
    "\n",
    "# Input data files are available in the read-only \"../input/\" directory\n",
    "# For example, running this (by clicking run or pressing Shift+Enter) will list all files under the input directory\n",
    "\n",
    "import os\n",
    "for dirname, _, filenames in os.walk('/kaggle/input/books-sales-and-ratings/Books_Data_Clean.csv'):\n",
    "    for filename in filenames:\n",
    "        print(os.path.join(dirname, filename))\n",
    "\n",
    "# You can write up to 20GB to the current directory (/kaggle/working/) that gets preserved as output when you create a version using \"Save & Run All\" \n",
    "# You can also write temporary files to /kaggle/temp/, but they won't be saved outside of the current session"
   ]
  },
  {
   "cell_type": "markdown",
   "id": "53083716",
   "metadata": {
    "papermill": {
     "duration": 0.002193,
     "end_time": "2024-11-19T16:22:30.401535",
     "exception": false,
     "start_time": "2024-11-19T16:22:30.399342",
     "status": "completed"
    },
    "tags": []
   },
   "source": [
    "This is using the book sales and ratings dataset from Kaggle. Let us get some insights from this dataset. This dataset is already clean so we do not need to do any data cleaning."
   ]
  },
  {
   "cell_type": "code",
   "execution_count": 2,
   "id": "56d98d7a",
   "metadata": {
    "execution": {
     "iopub.execute_input": "2024-11-19T16:22:30.407915Z",
     "iopub.status.busy": "2024-11-19T16:22:30.407223Z",
     "iopub.status.idle": "2024-11-19T16:22:32.076015Z",
     "shell.execute_reply": "2024-11-19T16:22:32.074953Z"
    },
    "papermill": {
     "duration": 1.674647,
     "end_time": "2024-11-19T16:22:32.078500",
     "exception": false,
     "start_time": "2024-11-19T16:22:30.403853",
     "status": "completed"
    },
    "tags": []
   },
   "outputs": [],
   "source": [
    "import pandas as pd\n",
    "import numpy as np\n",
    "import matplotlib as plt\n",
    "from scipy.stats import f_oneway"
   ]
  },
  {
   "cell_type": "code",
   "execution_count": 3,
   "id": "e80157ea",
   "metadata": {
    "execution": {
     "iopub.execute_input": "2024-11-19T16:22:32.085544Z",
     "iopub.status.busy": "2024-11-19T16:22:32.085044Z",
     "iopub.status.idle": "2024-11-19T16:22:32.111092Z",
     "shell.execute_reply": "2024-11-19T16:22:32.110005Z"
    },
    "papermill": {
     "duration": 0.031819,
     "end_time": "2024-11-19T16:22:32.113198",
     "exception": false,
     "start_time": "2024-11-19T16:22:32.081379",
     "status": "completed"
    },
    "tags": []
   },
   "outputs": [
    {
     "name": "stdout",
     "output_type": "stream",
     "text": [
      "['index', 'Publishing Year', 'Book Name', 'Author', 'language_code', 'Author_Rating', 'Book_average_rating', 'Book_ratings_count', 'genre', 'gross sales', 'publisher revenue', 'sale price', 'sales rank', 'Publisher ', 'units sold']\n"
     ]
    }
   ],
   "source": [
    "books = pd.read_csv(\"/kaggle/input/books-sales-and-ratings/Books_Data_Clean.csv\")\n",
    "column_names = list(books.columns)\n",
    "print(column_names)"
   ]
  },
  {
   "cell_type": "markdown",
   "id": "7424194f",
   "metadata": {
    "papermill": {
     "duration": 0.002306,
     "end_time": "2024-11-19T16:22:32.118194",
     "exception": false,
     "start_time": "2024-11-19T16:22:32.115888",
     "status": "completed"
    },
    "tags": []
   },
   "source": [
    "First insight I want to test is if genre effects the amount of gross sales. Our hypothesis is that genre does affect the amount of gross sales. Or genre does affect teh amount of units sold."
   ]
  },
  {
   "cell_type": "code",
   "execution_count": 4,
   "id": "10e05d3b",
   "metadata": {
    "execution": {
     "iopub.execute_input": "2024-11-19T16:22:32.124702Z",
     "iopub.status.busy": "2024-11-19T16:22:32.123954Z",
     "iopub.status.idle": "2024-11-19T16:22:32.144252Z",
     "shell.execute_reply": "2024-11-19T16:22:32.143083Z"
    },
    "papermill": {
     "duration": 0.025675,
     "end_time": "2024-11-19T16:22:32.146235",
     "exception": false,
     "start_time": "2024-11-19T16:22:32.120560",
     "status": "completed"
    },
    "tags": []
   },
   "outputs": [
    {
     "name": "stdout",
     "output_type": "stream",
     "text": [
      "f-statistic:  2.290120281023786\n",
      "P-Value:  0.07678379957971966\n"
     ]
    }
   ],
   "source": [
    "groups = books.groupby('genre')['units sold'].apply(list)\n",
    "f_statistic, p_value = f_oneway(*groups)\n",
    "print(\"f-statistic: \", f_statistic)\n",
    "print(\"P-Value: \", p_value)"
   ]
  },
  {
   "cell_type": "markdown",
   "id": "2fceb4fa",
   "metadata": {
    "papermill": {
     "duration": 0.002343,
     "end_time": "2024-11-19T16:22:32.151204",
     "exception": false,
     "start_time": "2024-11-19T16:22:32.148861",
     "status": "completed"
    },
    "tags": []
   },
   "source": [
    "Since the p value is above 0.05, there isn't enough significant evidence to say that the genre affects gross sales."
   ]
  },
  {
   "cell_type": "code",
   "execution_count": 5,
   "id": "c6b69313",
   "metadata": {
    "execution": {
     "iopub.execute_input": "2024-11-19T16:22:32.158101Z",
     "iopub.status.busy": "2024-11-19T16:22:32.157229Z",
     "iopub.status.idle": "2024-11-19T16:22:32.168013Z",
     "shell.execute_reply": "2024-11-19T16:22:32.166803Z"
    },
    "papermill": {
     "duration": 0.016268,
     "end_time": "2024-11-19T16:22:32.169950",
     "exception": false,
     "start_time": "2024-11-19T16:22:32.153682",
     "status": "completed"
    },
    "tags": []
   },
   "outputs": [
    {
     "name": "stdout",
     "output_type": "stream",
     "text": [
      "F-statistic:  1.5442746468053183\n",
      "p value:  0.20141194554591474\n"
     ]
    }
   ],
   "source": [
    "group_sales = books.groupby('genre')['gross sales'].apply(list)\n",
    "f_statistic2, p_value2 = f_oneway(*group_sales)\n",
    "print(\"F-statistic: \", f_statistic2)\n",
    "print(\"p value: \", p_value2)"
   ]
  },
  {
   "cell_type": "markdown",
   "id": "b44ded76",
   "metadata": {
    "papermill": {
     "duration": 0.002356,
     "end_time": "2024-11-19T16:22:32.174982",
     "exception": false,
     "start_time": "2024-11-19T16:22:32.172626",
     "status": "completed"
    },
    "tags": []
   },
   "source": [
    "We can see that the p value is also more than 0.05 here, meaning there isn't enough significant evidence to say that the genre affects units sold."
   ]
  }
 ],
 "metadata": {
  "kaggle": {
   "accelerator": "none",
   "dataSources": [
    {
     "datasetId": 4116904,
     "sourceId": 7134968,
     "sourceType": "datasetVersion"
    }
   ],
   "dockerImageVersionId": 30786,
   "isGpuEnabled": false,
   "isInternetEnabled": false,
   "language": "python",
   "sourceType": "notebook"
  },
  "kernelspec": {
   "display_name": "Python 3",
   "language": "python",
   "name": "python3"
  },
  "language_info": {
   "codemirror_mode": {
    "name": "ipython",
    "version": 3
   },
   "file_extension": ".py",
   "mimetype": "text/x-python",
   "name": "python",
   "nbconvert_exporter": "python",
   "pygments_lexer": "ipython3",
   "version": "3.10.14"
  },
  "papermill": {
   "default_parameters": {},
   "duration": 5.041268,
   "end_time": "2024-11-19T16:22:32.697325",
   "environment_variables": {},
   "exception": null,
   "input_path": "__notebook__.ipynb",
   "output_path": "__notebook__.ipynb",
   "parameters": {},
   "start_time": "2024-11-19T16:22:27.656057",
   "version": "2.6.0"
  }
 },
 "nbformat": 4,
 "nbformat_minor": 5
}
